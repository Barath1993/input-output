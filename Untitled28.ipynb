{
  "nbformat": 4,
  "nbformat_minor": 0,
  "metadata": {
    "colab": {
      "provenance": [],
      "authorship_tag": "ABX9TyOZ1n80KBfjjyq2T9AAv8bg",
      "include_colab_link": true
    },
    "kernelspec": {
      "name": "python3",
      "display_name": "Python 3"
    },
    "language_info": {
      "name": "python"
    }
  },
  "cells": [
    {
      "cell_type": "markdown",
      "metadata": {
        "id": "view-in-github",
        "colab_type": "text"
      },
      "source": [
        "<a href=\"https://colab.research.google.com/github/Barath1993/input-output/blob/main/Untitled28.ipynb\" target=\"_parent\"><img src=\"https://colab.research.google.com/assets/colab-badge.svg\" alt=\"Open In Colab\"/></a>"
      ]
    },
    {
      "cell_type": "code",
      "execution_count": null,
      "metadata": {
        "id": "xaKD7N8B5p3Y"
      },
      "outputs": [],
      "source": [
        "#A single line contains integers separated by space\n",
        "#Output Description:\n",
        "#Print the integer list of integers separated by space\n",
        "##Sample Input :\n",
        "2 3 4 5 6 7 8\n",
        "#Sample Output :\n",
        "2 3 4 5 6 7 8\n",
        "\n",
        "\n",
        "\n",
        "a=input()\n",
        "print(a)"
      ]
    }
  ]
}